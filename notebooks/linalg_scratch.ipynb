{
 "cells": [
  {
   "cell_type": "code",
   "execution_count": 34,
   "metadata": {},
   "outputs": [
    {
     "name": "stdout",
     "output_type": "stream",
     "text": [
      "⎡0  0   1  0 ⎤\n",
      "⎢            ⎥\n",
      "⎢0  0   0  -1⎥\n",
      "⎢            ⎥\n",
      "⎢1  0   0  0 ⎥\n",
      "⎢            ⎥\n",
      "⎣0  -1  0  0 ⎦\n"
     ]
    }
   ],
   "source": [
    "from sympy import symbols, Matrix, pprint\n",
    "\n",
    "# Define the symbols\n",
    "a1, a2, a3 = symbols('a1 a2 a3')\n",
    "b1, b2, b3 = symbols('b1 b2 b3')\n",
    "c1, c2, c3 = symbols('c1 c2 c3')\n",
    "\n",
    "e1 = Matrix([[0, 1, 0, 0],\n",
    "              [1, 0, 0, 0],\n",
    "              [0, 0, 0, 1],\n",
    "              [0, 0, 1, 0]])\n",
    "\n",
    "e2 = Matrix([[0, 0, 1, 0],\n",
    "                [0, 0, 0, -1],\n",
    "                [1, 0, 0, 0],\n",
    "                [0, -1, 0, 0]])\n",
    "\n",
    "e3 = Matrix([[1, 0, 0, 0],\n",
    "                [0, -1, 0, 0],\n",
    "                [0, 0, -1, 0],\n",
    "                [0, 0, 0, 1]])  \n",
    "\n",
    "pprint(e2)"
   ]
  },
  {
   "cell_type": "code",
   "execution_count": 27,
   "metadata": {},
   "outputs": [],
   "source": [
    "sigma1 = e2*e3 \n",
    "sigma2 = e3*e1\n",
    "sigma3 = e1*e2\n",
    "\n",
    "tau = e1 * e2 * e3 # area element\n",
    "\n",
    "id = e1 * e1 "
   ]
  },
  {
   "cell_type": "code",
   "execution_count": 28,
   "metadata": {},
   "outputs": [
    {
     "name": "stdout",
     "output_type": "stream",
     "text": [
      "⎡0  0  0   -1⎤\n",
      "⎢            ⎥\n",
      "⎢0  0  -1  0 ⎥\n",
      "⎢            ⎥\n",
      "⎢0  1  0   0 ⎥\n",
      "⎢            ⎥\n",
      "⎣1  0  0   0 ⎦\n"
     ]
    }
   ],
   "source": [
    "pprint(tau)"
   ]
  },
  {
   "cell_type": "code",
   "execution_count": 36,
   "metadata": {},
   "outputs": [
    {
     "name": "stdout",
     "output_type": "stream",
     "text": [
      "⎡a₃  a₁   a₂    0 ⎤\n",
      "⎢                 ⎥\n",
      "⎢a₁  -a₃   0   -a₂⎥\n",
      "⎢                 ⎥\n",
      "⎢a₂   0   -a₃  a₁ ⎥\n",
      "⎢                 ⎥\n",
      "⎣0   -a₂  a₁   a₃ ⎦\n",
      "⎡b₃  b₁   b₂    0 ⎤\n",
      "⎢                 ⎥\n",
      "⎢b₁  -b₃   0   -b₂⎥\n",
      "⎢                 ⎥\n",
      "⎢b₂   0   -b₃  b₁ ⎥\n",
      "⎢                 ⎥\n",
      "⎣0   -b₂  b₁   b₃ ⎦\n",
      "⎡c₃  c₁   c₂    0 ⎤\n",
      "⎢                 ⎥\n",
      "⎢c₁  -c₃   0   -c₂⎥\n",
      "⎢                 ⎥\n",
      "⎢c₂   0   -c₃  c₁ ⎥\n",
      "⎢                 ⎥\n",
      "⎣0   -c₂  c₁   c₃ ⎦\n"
     ]
    }
   ],
   "source": [
    "s1 = a1*e1 + a2*e2 + a3*e3\n",
    "s2 = b1*e1 + b2*e2 + b3*e3\n",
    "s3 = c1*e1 + c2*e2 + c3*e3\n",
    "\n",
    "pprint(s1)\n",
    "pprint(s2)\n",
    "pprint(s3)"
   ]
  },
  {
   "cell_type": "code",
   "execution_count": 4,
   "metadata": {},
   "outputs": [
    {
     "name": "stdout",
     "output_type": "stream",
     "text": [
      "⎡a₁⋅b₁ + a₂⋅b₂ + a₃⋅b₃     -a₁⋅b₃ + a₃⋅b₁         -a₂⋅b₃ + a₃⋅b₂         -a₁⋅b ↪\n",
      "⎢                                                                              ↪\n",
      "⎢    a₁⋅b₃ - a₃⋅b₁      a₁⋅b₁ + a₂⋅b₂ + a₃⋅b₃      a₁⋅b₂ - a₂⋅b₁         -a₂⋅b ↪\n",
      "⎢                                                                              ↪\n",
      "⎢    a₂⋅b₃ - a₃⋅b₂         -a₁⋅b₂ + a₂⋅b₁      a₁⋅b₁ + a₂⋅b₂ + a₃⋅b₃      a₁⋅b ↪\n",
      "⎢                                                                              ↪\n",
      "⎣    a₁⋅b₂ - a₂⋅b₁          a₂⋅b₃ - a₃⋅b₂         -a₁⋅b₃ + a₃⋅b₁      a₁⋅b₁ +  ↪\n",
      "\n",
      "↪ ₂ + a₂⋅b₁    ⎤\n",
      "↪              ⎥\n",
      "↪ ₃ + a₃⋅b₂    ⎥\n",
      "↪              ⎥\n",
      "↪ ₃ - a₃⋅b₁    ⎥\n",
      "↪              ⎥\n",
      "↪ a₂⋅b₂ + a₃⋅b₃⎦\n"
     ]
    }
   ],
   "source": [
    "pprint(s1*s2)"
   ]
  },
  {
   "cell_type": "code",
   "execution_count": 11,
   "metadata": {},
   "outputs": [
    {
     "name": "stdout",
     "output_type": "stream",
     "text": [
      "1.0⋅a₁⋅b₁ + 1.0⋅a₂⋅b₂ + 1.0⋅a₃⋅b₃\n"
     ]
    }
   ],
   "source": [
    "pprint(1/4 * (s1*s2).trace())"
   ]
  },
  {
   "cell_type": "code",
   "execution_count": 30,
   "metadata": {},
   "outputs": [
    {
     "name": "stdout",
     "output_type": "stream",
     "text": [
      "1.0⋅a₂⋅b₃ - 1.0⋅a₃⋅b₂\n"
     ]
    }
   ],
   "source": [
    "# get the volume element sigma1 component \n",
    "pprint(1/4 * (-sigma1 * s1 * s2).trace())"
   ]
  },
  {
   "cell_type": "code",
   "execution_count": 31,
   "metadata": {},
   "outputs": [
    {
     "name": "stdout",
     "output_type": "stream",
     "text": [
      "1.0⋅a₁⋅b₃ - 1.0⋅a₃⋅b₁\n"
     ]
    }
   ],
   "source": [
    "pprint(1/4 * (sigma2 * s1 * s2).trace())"
   ]
  },
  {
   "cell_type": "code",
   "execution_count": 32,
   "metadata": {},
   "outputs": [
    {
     "name": "stdout",
     "output_type": "stream",
     "text": [
      "1.0⋅a₁⋅b₂ - 1.0⋅a₂⋅b₁\n"
     ]
    }
   ],
   "source": [
    "pprint(1/4 * (-sigma3 * s1 * s2).trace())"
   ]
  },
  {
   "cell_type": "code",
   "execution_count": 37,
   "metadata": {},
   "outputs": [
    {
     "name": "stdout",
     "output_type": "stream",
     "text": [
      "1.0⋅c₁⋅(a₂⋅b₃ - a₃⋅b₂) + 0.5⋅c₂⋅(-a₁⋅b₃ + a₃⋅b₁) - 0.5⋅c₂⋅(a₁⋅b₃ - a₃⋅b₁) - 0. ↪\n",
      "\n",
      "↪ 5⋅c₃⋅(-a₁⋅b₂ + a₂⋅b₁) + 0.5⋅c₃⋅(a₁⋅b₂ - a₂⋅b₁)\n"
     ]
    }
   ],
   "source": [
    "pprint(1/4 * (-tau * s1 * s2 * s3).trace())"
   ]
  },
  {
   "cell_type": "code",
   "execution_count": 41,
   "metadata": {},
   "outputs": [
    {
     "data": {
      "text/latex": [
       "$\\displaystyle \\left[\\begin{matrix}a_{1}^{2} + a_{2}^{2} + a_{3}^{2} & 0 & 0 & 0\\\\0 & a_{1}^{2} + a_{2}^{2} + a_{3}^{2} & 0 & 0\\\\0 & 0 & a_{1}^{2} + a_{2}^{2} + a_{3}^{2} & 0\\\\0 & 0 & 0 & a_{1}^{2} + a_{2}^{2} + a_{3}^{2}\\end{matrix}\\right]$"
      ],
      "text/plain": [
       "Matrix([\n",
       "[a1**2 + a2**2 + a3**2,                     0,                     0,                     0],\n",
       "[                    0, a1**2 + a2**2 + a3**2,                     0,                     0],\n",
       "[                    0,                     0, a1**2 + a2**2 + a3**2,                     0],\n",
       "[                    0,                     0,                     0, a1**2 + a2**2 + a3**2]])"
      ]
     },
     "execution_count": 41,
     "metadata": {},
     "output_type": "execute_result"
    }
   ],
   "source": [
    "(s1 * s1)"
   ]
  },
  {
   "cell_type": "code",
   "execution_count": 39,
   "metadata": {},
   "outputs": [
    {
     "data": {
      "text/latex": [
       "$\\displaystyle \\left[\\begin{matrix}b_{1}^{2} + b_{2}^{2} + b_{3}^{2} & 0 & 0 & 0\\\\0 & b_{1}^{2} + b_{2}^{2} + b_{3}^{2} & 0 & 0\\\\0 & 0 & b_{1}^{2} + b_{2}^{2} + b_{3}^{2} & 0\\\\0 & 0 & 0 & b_{1}^{2} + b_{2}^{2} + b_{3}^{2}\\end{matrix}\\right]$"
      ],
      "text/plain": [
       "Matrix([\n",
       "[b1**2 + b2**2 + b3**2,                     0,                     0,                     0],\n",
       "[                    0, b1**2 + b2**2 + b3**2,                     0,                     0],\n",
       "[                    0,                     0, b1**2 + b2**2 + b3**2,                     0],\n",
       "[                    0,                     0,                     0, b1**2 + b2**2 + b3**2]])"
      ]
     },
     "execution_count": 39,
     "metadata": {},
     "output_type": "execute_result"
    }
   ],
   "source": [
    "s2 * s2"
   ]
  },
  {
   "cell_type": "code",
   "execution_count": 24,
   "metadata": {},
   "outputs": [
    {
     "name": "stdout",
     "output_type": "stream",
     "text": [
      "    2       2       2\n",
      "4⋅a₁  + 4⋅a₂  + 4⋅a₃ \n"
     ]
    }
   ],
   "source": [
    "pprint((s1 * s1).trace())"
   ]
  }
 ],
 "metadata": {
  "kernelspec": {
   "display_name": "geom",
   "language": "python",
   "name": "python3"
  },
  "language_info": {
   "codemirror_mode": {
    "name": "ipython",
    "version": 3
   },
   "file_extension": ".py",
   "mimetype": "text/x-python",
   "name": "python",
   "nbconvert_exporter": "python",
   "pygments_lexer": "ipython3",
   "version": "3.10.16"
  }
 },
 "nbformat": 4,
 "nbformat_minor": 2
}
