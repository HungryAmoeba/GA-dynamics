{
 "cells": [
  {
   "cell_type": "code",
   "execution_count": null,
   "metadata": {},
   "outputs": [],
   "source": [
    "from sympy import Matrix, pprint, symbols\n",
    "\n",
    "# Define the symbols\n",
    "a1, a2, a3 = symbols(\"a1 a2 a3\")\n",
    "b1, b2, b3 = symbols(\"b1 b2 b3\")\n",
    "c1, c2, c3 = symbols(\"c1 c2 c3\")\n",
    "\n",
    "e1 = Matrix([[0, 1, 0, 0], [1, 0, 0, 0], [0, 0, 0, 1], [0, 0, 1, 0]])\n",
    "\n",
    "e2 = Matrix([[0, 0, 1, 0], [0, 0, 0, -1], [1, 0, 0, 0], [0, -1, 0, 0]])\n",
    "\n",
    "e3 = Matrix([[1, 0, 0, 0], [0, -1, 0, 0], [0, 0, -1, 0], [0, 0, 0, 1]])\n",
    "\n",
    "pprint(e2)"
   ]
  },
  {
   "cell_type": "code",
   "execution_count": null,
   "metadata": {},
   "outputs": [],
   "source": [
    "sigma1 = e2 * e3\n",
    "sigma2 = e3 * e1\n",
    "sigma3 = e1 * e2\n",
    "\n",
    "tau = e1 * e2 * e3  # area element\n",
    "\n",
    "id = e1 * e1"
   ]
  },
  {
   "cell_type": "code",
   "execution_count": null,
   "metadata": {},
   "outputs": [],
   "source": [
    "pprint(tau)"
   ]
  },
  {
   "cell_type": "code",
   "execution_count": null,
   "metadata": {},
   "outputs": [],
   "source": [
    "s1 = a1 * e1 + a2 * e2 + a3 * e3\n",
    "s2 = b1 * e1 + b2 * e2 + b3 * e3\n",
    "s3 = c1 * e1 + c2 * e2 + c3 * e3\n",
    "\n",
    "pprint(s1)\n",
    "pprint(s2)\n",
    "pprint(s3)"
   ]
  },
  {
   "cell_type": "code",
   "execution_count": null,
   "metadata": {},
   "outputs": [],
   "source": [
    "pprint(s1 * s2)"
   ]
  },
  {
   "cell_type": "code",
   "execution_count": null,
   "metadata": {},
   "outputs": [],
   "source": [
    "pprint(1 / 4 * (s1 * s2).trace())"
   ]
  },
  {
   "cell_type": "code",
   "execution_count": null,
   "metadata": {},
   "outputs": [],
   "source": [
    "# get the volume element sigma1 component\n",
    "pprint(1 / 4 * (-sigma1 * s1 * s2).trace())"
   ]
  },
  {
   "cell_type": "code",
   "execution_count": null,
   "metadata": {},
   "outputs": [],
   "source": [
    "pprint(1 / 4 * (sigma2 * s1 * s2).trace())"
   ]
  },
  {
   "cell_type": "code",
   "execution_count": null,
   "metadata": {},
   "outputs": [],
   "source": [
    "pprint(1 / 4 * (-sigma3 * s1 * s2).trace())"
   ]
  },
  {
   "cell_type": "code",
   "execution_count": null,
   "metadata": {},
   "outputs": [],
   "source": [
    "pprint(1 / 4 * (-tau * s1 * s2 * s3).trace())"
   ]
  },
  {
   "cell_type": "code",
   "execution_count": null,
   "metadata": {},
   "outputs": [],
   "source": [
    "(s1 * s1)"
   ]
  },
  {
   "cell_type": "code",
   "execution_count": null,
   "metadata": {},
   "outputs": [],
   "source": [
    "s2 * s2"
   ]
  },
  {
   "cell_type": "code",
   "execution_count": null,
   "metadata": {},
   "outputs": [],
   "source": [
    "pprint((s1 * s1).trace())"
   ]
  },
  {
   "cell_type": "code",
   "execution_count": null,
   "metadata": {},
   "outputs": [],
   "source": [
    "translation = 3 * e1 + 2 * e2 + 1 * e3\n",
    "pprint(translation)"
   ]
  },
  {
   "cell_type": "code",
   "execution_count": null,
   "metadata": {},
   "outputs": [],
   "source": []
  },
  {
   "cell_type": "code",
   "execution_count": null,
   "metadata": {},
   "outputs": [],
   "source": [
    "(s2 + translation) * (s2 + translation)"
   ]
  },
  {
   "cell_type": "code",
   "execution_count": null,
   "metadata": {},
   "outputs": [],
   "source": [
    "# see if the area element is invariant under translation for s1 and s2\n",
    "prod_with_translation = (s1 + translation) * (s2 + translation)\n",
    "prod_no_translation = s1 * s2\n",
    "# get the area elements\n",
    "1 / 4 * (sigma1 * prod_with_translation).trace()\n",
    "# 1/4 * (sigma1 * prod_no_translation).trace()\n",
    "# print the difference"
   ]
  },
  {
   "cell_type": "code",
   "execution_count": null,
   "metadata": {},
   "outputs": [],
   "source": [
    "from sympy import simplify\n",
    "\n",
    "simplified_prod_with_translation = simplify(1 / 4 * (sigma1 * prod_with_translation).trace())\n",
    "pprint(simplified_prod_with_translation)"
   ]
  },
  {
   "cell_type": "code",
   "execution_count": null,
   "metadata": {},
   "outputs": [],
   "source": [
    "1 / 4 * (sigma1 * prod_no_translation).trace()"
   ]
  }
 ],
 "metadata": {
  "kernelspec": {
   "display_name": "geom",
   "language": "python",
   "name": "python3"
  },
  "language_info": {
   "codemirror_mode": {
    "name": "ipython",
    "version": 3
   },
   "file_extension": ".py",
   "mimetype": "text/x-python",
   "name": "python",
   "nbconvert_exporter": "python",
   "pygments_lexer": "ipython3",
   "version": "3.10.16"
  }
 },
 "nbformat": 4,
 "nbformat_minor": 2
}
